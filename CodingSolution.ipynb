{
  "nbformat": 4,
  "nbformat_minor": 0,
  "metadata": {
    "colab": {
      "name": "CodingSolution.ipynb",
      "provenance": []
    },
    "kernelspec": {
      "name": "python3",
      "display_name": "Python 3"
    }
  },
  "cells": [
    {
      "cell_type": "code",
      "metadata": {
        "colab": {
          "base_uri": "https://localhost:8080/"
        },
        "id": "_HCPR5I3MteN",
        "outputId": "28da4095-d64a-43b4-e375-7e6304d35b4e"
      },
      "source": [
        "def filter_arr(x):\r\n",
        "  l=[]\r\n",
        "  k=[]\r\n",
        "  h=[]\r\n",
        "  g=[]\r\n",
        "  f=[]\r\n",
        "  for i in range(len(x)):\r\n",
        "    if x[i]<=0.2:\r\n",
        "      l.append(x[i])\r\n",
        "    elif x[i]<=0.4 and x[i]>0.2:\r\n",
        "      k.append(x[i])\r\n",
        "    elif x[i]<=0.6 and x[i]>0.4:\r\n",
        "      h.append(x[i])\r\n",
        "    elif x[i]<=0.8 and x[i]>0.6:\r\n",
        "      g.append(x[i])\r\n",
        "    else:\r\n",
        "      f.append(x[i])\r\n",
        "  d=[len(l),len(k),len(h),len(g),len(f)]\r\n",
        "  p=min(d)\r\n",
        "  o=[l,k,h,g,f]\r\n",
        "  for i in range(5):\r\n",
        "    for j in range(p):\r\n",
        "      print(o[i][j],end=\",\")\r\n",
        "      \r\n",
        "#input floating_point numbers         \r\n",
        "x= [float(x) for x in input(\"Enter multiple value: \").split(\",\")]\r\n",
        "#filter array\r\n",
        "filter_arr(x)"
      ],
      "execution_count": 40,
      "outputs": [
        {
          "output_type": "stream",
          "text": [
            "Enter multiple value: 0.1,0.3,0.5,0.7,0.9\n",
            "0.1,0.3,0.5,0.7,0.9,"
          ],
          "name": "stdout"
        }
      ]
    }
  ]
}