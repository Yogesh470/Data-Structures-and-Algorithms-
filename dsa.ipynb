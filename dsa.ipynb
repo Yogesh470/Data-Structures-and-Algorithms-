{
  "nbformat": 4,
  "nbformat_minor": 0,
  "metadata": {
    "colab": {
      "name": "dsa.ipynb",
      "provenance": []
    },
    "kernelspec": {
      "name": "python3",
      "display_name": "Python 3"
    }
  },
  "cells": [
    {
      "cell_type": "code",
      "metadata": {
        "colab": {
          "base_uri": "https://localhost:8080/"
        },
        "id": "_5VCyqfyctUU",
        "outputId": "5aeeab92-38fe-481b-9d6f-2a7eed04d728"
      },
      "source": [
        "def largest(arr,n): \r\n",
        "  \r\n",
        "    # Initialize maximum element \r\n",
        "    max = arr[0] \r\n",
        "  \r\n",
        "    # Traverse array elements from second \r\n",
        "    # and compare every element with  \r\n",
        "    # current max \r\n",
        "    for i in range(1, n): \r\n",
        "        if arr[i] > max: \r\n",
        "            max = arr[i] \r\n",
        "    return max\r\n",
        "  \r\n",
        "# Driver Code \r\n",
        "arr = [10, 324, 45, 90, 98] \r\n",
        "n = len(arr) \r\n",
        "Ans = largest(arr,n) \r\n",
        "print (\"Largest in given array is :\",Ans) \r\n"
      ],
      "execution_count": 4,
      "outputs": [
        {
          "output_type": "stream",
          "text": [
            "Largest in given array is : 324\n"
          ],
          "name": "stdout"
        }
      ]
    },
    {
      "cell_type": "code",
      "metadata": {
        "colab": {
          "base_uri": "https://localhost:8080/"
        },
        "id": "abeL_xwPk6A3",
        "outputId": "48c77769-67a0-461c-d3bc-4a4e59a3207c"
      },
      "source": [
        "class Node: \r\n",
        "  \r\n",
        "    # Function to initialise the node object \r\n",
        "    def __init__(self, data): \r\n",
        "        self.data = data  # Assign data \r\n",
        "        self.next = None  # Initialize next as null \r\n",
        "  \r\n",
        "  \r\n",
        "# Linked List class contains a Node object \r\n",
        "class LinkedList: \r\n",
        "  \r\n",
        "    # Function to initialize head \r\n",
        "    def __init__(self): \r\n",
        "        self.head = None\r\n",
        "\r\n",
        "    def push(self, new_data): \r\n",
        "  \r\n",
        "    # 1 & 2: Allocate the Node & \r\n",
        "    #        Put in the data \r\n",
        "       new_node = Node(new_data) \r\n",
        "          \r\n",
        "    # 3. Make next of new Node as head \r\n",
        "       new_node.next = self.head \r\n",
        "          \r\n",
        "    # 4. Move the head to point to new Node  \r\n",
        "       self.head = new_node     \r\n",
        "  \r\n",
        "    # This function prints contents of linked list \r\n",
        "    # starting from head \r\n",
        "    def insertAfter(self, prev_node, new_data):\r\n",
        "      if prev_node is None:\r\n",
        "         print (\"The given previous node must inLinkedList.\")\r\n",
        "         return\r\n",
        "  \r\n",
        "    # 2. Create new node &  \r\n",
        "    # 3. Put in the data  \r\n",
        "      new_node = Node(new_data)  \r\n",
        "  \r\n",
        "    # 4. Make next of new Node as next of prev_node  \r\n",
        "      new_node.next = prev_node.next\r\n",
        "  \r\n",
        "    # 5. make next of prev_node as new_node  \r\n",
        "      prev_node.next = new_node\r\n",
        "    def append(self, new_data): \r\n",
        " \r\n",
        "   # 1. Create a new node \r\n",
        "   # 2. Put in the data \r\n",
        "   # 3. Set next as None \r\n",
        "      new_node = Node(new_data) \r\n",
        " \r\n",
        "   # 4. If the Linked List is empty, then make the \r\n",
        "   #    new node as head \r\n",
        "      if self.head is None:\r\n",
        "        self.head = new_node \r\n",
        "        return\r\n",
        " \r\n",
        "   # 5. Else traverse till the last node \r\n",
        "      last = self.head \r\n",
        "      while (last.next):\r\n",
        "        last = last.next\r\n",
        " \r\n",
        "   # 6. Change the next of last node \r\n",
        "      last.next =  new_node \r\n",
        "\r\n",
        "\r\n",
        "\r\n",
        "    def printList(self): \r\n",
        "        temp = self.head \r\n",
        "        while (temp): \r\n",
        "            print (temp.data) \r\n",
        "            temp = temp.next\r\n",
        "  \r\n",
        "  \r\n",
        "# Code execution starts here \r\n",
        "if __name__=='__main__': \r\n",
        "  \r\n",
        "    # Start with the empty list \r\n",
        "    llist = LinkedList() \r\n",
        "  \r\n",
        "    llist.head = Node(1) \r\n",
        "    second = Node(2) \r\n",
        "    third = Node(3) \r\n",
        "  \r\n",
        "    llist.head.next = second; # Link first node with second \r\n",
        "    second.next = third; # Link second node with the third node\r\n",
        "    llist.push(9)\r\n",
        "    llist.append(5)\r\n",
        "    \r\n",
        "    llist.insertAfter(second,4) \r\n",
        "    llist.printList() \r\n"
      ],
      "execution_count": 51,
      "outputs": [
        {
          "output_type": "stream",
          "text": [
            "9\n",
            "1\n",
            "2\n",
            "4\n",
            "3\n",
            "5\n"
          ],
          "name": "stdout"
        }
      ]
    }
  ]
}