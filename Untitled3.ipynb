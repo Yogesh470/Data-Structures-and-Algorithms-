{
  "nbformat": 4,
  "nbformat_minor": 0,
  "metadata": {
    "colab": {
      "name": "Untitled3.ipynb",
      "provenance": []
    },
    "kernelspec": {
      "name": "python3",
      "display_name": "Python 3"
    },
    "language_info": {
      "name": "python"
    }
  },
  "cells": [
    {
      "cell_type": "code",
      "metadata": {
        "colab": {
          "base_uri": "https://localhost:8080/"
        },
        "id": "6eO5wD3cBkM3",
        "outputId": "67b278a7-302e-4c7c-ea80-41b60abc7297"
      },
      "source": [
        "graph = {\n",
        " 'A' : ['B','C'],\n",
        " 'B' : ['D', 'E'],\n",
        " 'C' : ['F', 'G'],\n",
        " 'D' : [],\n",
        " 'E' : [],\n",
        " 'F' : [],\n",
        " 'G' : []\n",
        "}\n",
        "visited = [] \n",
        "queue = []\n",
        "goal = 'F'\n",
        "def bfs(visited, graph, node):\n",
        "    visited.append(node)\n",
        "    queue.append(node)\n",
        "    while queue:\n",
        "        s = queue.pop(0) \n",
        "        print (s, end = \"\\n\") \n",
        "        for neighbour in graph[s]:\n",
        "            if neighbour not in visited:\n",
        "                visited.append(neighbour)\n",
        "                queue.append(neighbour)\n",
        "                if goal in visited:\n",
        "                    break\n",
        "bfs(visited, graph, 'A')\n"
      ],
      "execution_count": null,
      "outputs": [
        {
          "output_type": "stream",
          "name": "stdout",
          "text": [
            "A\n",
            "B\n",
            "C\n",
            "D\n",
            "E\n",
            "F\n"
          ]
        }
      ]
    },
    {
      "cell_type": "code",
      "metadata": {
        "colab": {
          "base_uri": "https://localhost:8080/"
        },
        "id": "-LggFTkBDsXX",
        "outputId": "a3cadde4-164f-4427-ed6e-831ba67deef2"
      },
      "source": [
        "graph = {\n",
        " 'A' : ['B','C'],\n",
        " 'B' : ['D', 'E'],\n",
        " 'C' : ['F', 'G'],\n",
        " 'D' : [],\n",
        " 'E' : [],\n",
        " 'F' : [],\n",
        " 'G' : []\n",
        "}\n",
        "goal = 'F'\n",
        "visited = set() \n",
        "def dfs(visited, graph, node):\n",
        "    if node not in visited:\n",
        "        print (node)\n",
        "        visited.add(node)\n",
        "        for neighbour in graph[node]:\n",
        "            if goal in visited:\n",
        "                break\n",
        "            else:\n",
        "                dfs(visited, graph, neighbour)\n",
        "dfs(visited, graph, 'A')"
      ],
      "execution_count": null,
      "outputs": [
        {
          "output_type": "stream",
          "name": "stdout",
          "text": [
            "A\n",
            "B\n",
            "D\n",
            "E\n",
            "C\n",
            "F\n"
          ]
        }
      ]
    },
    {
      "cell_type": "code",
      "metadata": {
        "colab": {
          "base_uri": "https://localhost:8080/"
        },
        "id": "lQON0-7hJkJr",
        "outputId": "a64cb029-6d28-4dce-e5eb-867853ec0f3f"
      },
      "source": [
        "l=[8,4,6,12]\n",
        "o=[]\n",
        "l.sort()\n",
        "u=0\n",
        "for i in l:\n",
        "  u+=i\n",
        "  o.append(u)\n",
        "print(o)  \n",
        "\n",
        "\n"
      ],
      "execution_count": null,
      "outputs": [
        {
          "output_type": "stream",
          "name": "stdout",
          "text": [
            "[4, 10, 18, 30]\n"
          ]
        }
      ]
    },
    {
      "cell_type": "code",
      "metadata": {
        "colab": {
          "base_uri": "https://localhost:8080/"
        },
        "id": "HJ3BZXohYzNo",
        "outputId": "d4feae75-03bb-4e17-c928-4975cb08b99d"
      },
      "source": [
        "l=[[1,2],[3,4],[-1,1]]\n",
        "o=[]\n",
        "#k=[lambda x: math.sqrt((l2[0]**2)+(l2[1]**2)) for i in l]\n"
      ],
      "execution_count": null,
      "outputs": [
        {
          "output_type": "stream",
          "name": "stdout",
          "text": [
            "[<function <listcomp>.<lambda> at 0x7f05f1f790e0>, <function <listcomp>.<lambda> at 0x7f05f1f79dd0>, <function <listcomp>.<lambda> at 0x7f05f1f794d0>]\n"
          ]
        }
      ]
    },
    {
      "cell_type": "code",
      "metadata": {
        "colab": {
          "base_uri": "https://localhost:8080/"
        },
        "id": "jXgcsA82ZziU",
        "outputId": "24c7dfe1-c045-4087-91ba-6cbf7cc90282"
      },
      "source": [
        "#for i in range(len(l)):\n",
        " # for j in range(2):\n",
        "l=[[1,2],[3,4],[-1,1],[9,0],[1,-3]]\n",
        "o=[] \n",
        "import math\n",
        "def sum1(l2):\n",
        "  y=math.sqrt((l2[0]**2)+(l2[1]**2))\n",
        "  return y\n",
        "for i in range(len(l)):\n",
        "  o.append(sum1(l[i])) \n",
        "d=dict(zip(o,l)) \n",
        "d=dict(sorted(d.items()))\n",
        "i=0\n",
        "u=[]\n",
        "for key in d.keys():\n",
        "  if i<3:\n",
        "    u.append(d[key])\n",
        "    i+=1\n",
        "print(list(u))"
      ],
      "execution_count": null,
      "outputs": [
        {
          "output_type": "stream",
          "name": "stdout",
          "text": [
            "[[-1, 1], [1, 2], [1, -3]]\n"
          ]
        }
      ]
    },
    {
      "cell_type": "code",
      "metadata": {
        "colab": {
          "base_uri": "https://localhost:8080/"
        },
        "id": "-g_Iwx5ebPat",
        "outputId": "7399e98e-1acb-421d-f1b6-a8f30bb4d936"
      },
      "source": [
        "d=dict(zip(o,l))\n",
        "print(d)"
      ],
      "execution_count": null,
      "outputs": [
        {
          "output_type": "stream",
          "name": "stdout",
          "text": [
            "{2.23606797749979: [1, 2], 5.0: [3, 4], 1.4142135623730951: [-1, 1]}\n"
          ]
        }
      ]
    },
    {
      "cell_type": "code",
      "metadata": {
        "colab": {
          "base_uri": "https://localhost:8080/"
        },
        "id": "1k4qOEUNbhtG",
        "outputId": "48187af1-5c3f-401c-c0a6-a7f62306547f"
      },
      "source": [
        "d=dict(sorted(d.items()))\n",
        "print(d)"
      ],
      "execution_count": null,
      "outputs": [
        {
          "output_type": "stream",
          "name": "stdout",
          "text": [
            "{1.4142135623730951: [-1, 1], 2.23606797749979: [1, 2], 5.0: [3, 4]}\n"
          ]
        }
      ]
    },
    {
      "cell_type": "code",
      "metadata": {
        "colab": {
          "base_uri": "https://localhost:8080/"
        },
        "id": "sfIrJFrGcI6u",
        "outputId": "bd3f77ab-808a-4ad4-bb65-f6f8082b741a"
      },
      "source": [
        "i=0\n",
        "u=[]\n",
        "for key in d.keys():\n",
        "  if i<2:\n",
        "    u.append(d[key])\n",
        "    i+=1\n",
        "print(list(u))"
      ],
      "execution_count": null,
      "outputs": [
        {
          "output_type": "stream",
          "name": "stdout",
          "text": [
            "[[-1, 1], [1, 2]]\n"
          ]
        }
      ]
    },
    {
      "cell_type": "code",
      "metadata": {
        "colab": {
          "base_uri": "https://localhost:8080/"
        },
        "id": "JFx9U9kFN_Dt",
        "outputId": "603e9ccc-ed51-4ba7-eb11-63f147eb0740"
      },
      "source": [
        "\n",
        "allLocations=[ [1, 2] , [1, -1], [3, 4] ]\n",
        "numOfDeliveries=2\n",
        "from heapq import heappop, heappush\n",
        "heap = []\n",
        "for idx, location in enumerate( allLocations ):\n",
        "    heappush(heap, (location[0]**2 + location[1]**2, location[0], idx))\n",
        "    \n",
        "res = []\n",
        "while numOfDeliveries != 0:\n",
        "    res.append(allLocations[ heappop(heap)[2] ])\n",
        "    numOfDeliveries -=1\n",
        "print(res)\n"
      ],
      "execution_count": null,
      "outputs": [
        {
          "output_type": "stream",
          "name": "stdout",
          "text": [
            "[[1, -1], [1, 2]]\n"
          ]
        }
      ]
    }
  ]
}